{
 "cells": [
  {
   "cell_type": "code",
   "execution_count": 1,
   "metadata": {},
   "outputs": [],
   "source": [
    "%load_ext autoreload\n",
    "%autoreload 2"
   ]
  },
  {
   "cell_type": "code",
   "execution_count": 18,
   "metadata": {},
   "outputs": [],
   "source": [
    "sys.path.append(os.path.abspath(os.path.join('../scripts')))\n"
   ]
  },
  {
   "cell_type": "code",
   "execution_count": 19,
   "metadata": {},
   "outputs": [],
   "source": [
    "import os\n",
    "import sys\n",
    "import json\n",
    "from algosdk.v2client import algod\n",
    "from account import *"
   ]
  },
  {
   "cell_type": "code",
   "execution_count": 31,
   "metadata": {},
   "outputs": [
    {
     "name": "stdout",
     "output_type": "stream",
     "text": [
      "My address: H3V5SSOS7QIEM6FJVMP4HHL4AKZE6WG2ZAQLHUGGJFSEI3ZOF5D5OSVZHI\n",
      "My private key: eKDVIPXv5m+doMFBndm7zf8bg9o/TJF3hQukwPVKSL8+69lJ0vwQRnipqx/DnXwCsk9Y2sggs9DGSWREby4vRw==\n",
      "My passphrase: audit final motor young soccer fossil agent script popular grid target wolf dawn patch yard equip vendor beyond alarm apart twist bargain where absent decade\n"
     ]
    }
   ],
   "source": [
    "address, private_key, passphrase = generate_algorand_keypair()"
   ]
  },
  {
   "cell_type": "code",
   "execution_count": 32,
   "metadata": {},
   "outputs": [],
   "source": [
    "key_data = {\n",
    "    'address': address,\n",
    "    'private_key': private_key,\n",
    "    'passphrase': passphrase\n",
    "}\n",
    "\n",
    "with open('../data/key_pair.json', 'w') as f:\n",
    "    json.dump(key_data, f)"
   ]
  },
  {
   "cell_type": "code",
   "execution_count": 38,
   "metadata": {},
   "outputs": [],
   "source": [
    "\n",
    "def first_transaction_example(private_key, my_address):\n",
    "    algod_address = \"http://localhost:4001\"\n",
    "    algod_token = \"aaaaaaaaaaaaaaaaaaaaaaaaaaaaaaaaaaaaaaaaaaaaaaaaaaaaaaaaaaaaaaaa\"\n",
    "    algod_client = algod.AlgodClient(algod_token, algod_address)\n",
    "    accoun_info = algod_client.account_info(my_address)\n",
    "    print(f'account info: {accoun_info}')"
   ]
  },
  {
   "cell_type": "code",
   "execution_count": 41,
   "metadata": {},
   "outputs": [
    {
     "name": "stdout",
     "output_type": "stream",
     "text": [
      "account info: {'address': 'H3V5SSOS7QIEM6FJVMP4HHL4AKZE6WG2ZAQLHUGGJFSEI3ZOF5D5OSVZHI', 'amount': 5000000, 'amount-without-pending-rewards': 5000000, 'apps-local-state': [], 'apps-total-schema': {'num-byte-slice': 0, 'num-uint': 0}, 'assets': [], 'created-apps': [], 'created-assets': [], 'min-balance': 100000, 'pending-rewards': 0, 'reward-base': 27521, 'rewards': 0, 'round': 22213850, 'status': 'Offline', 'total-apps-opted-in': 0, 'total-assets-opted-in': 0, 'total-created-apps': 0, 'total-created-assets': 0}\n"
     ]
    }
   ],
   "source": [
    "first_transaction_example(private_key, address)"
   ]
  },
  {
   "cell_type": "code",
   "execution_count": null,
   "metadata": {},
   "outputs": [],
   "source": []
  }
 ],
 "metadata": {
  "interpreter": {
   "hash": "0368e838d39f6875ccbb49ca4329eb228e4240d1886ceb664016ee8f89a9c98f"
  },
  "kernelspec": {
   "display_name": "Python 3.10.4 ('week6')",
   "language": "python",
   "name": "python3"
  },
  "language_info": {
   "codemirror_mode": {
    "name": "ipython",
    "version": 3
   },
   "file_extension": ".py",
   "mimetype": "text/x-python",
   "name": "python",
   "nbconvert_exporter": "python",
   "pygments_lexer": "ipython3",
   "version": "3.10.4"
  },
  "orig_nbformat": 4
 },
 "nbformat": 4,
 "nbformat_minor": 2
}

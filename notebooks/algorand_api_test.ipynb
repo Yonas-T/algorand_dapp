{
 "cells": [
  {
   "cell_type": "code",
   "execution_count": 1,
   "metadata": {},
   "outputs": [],
   "source": [
    "%load_ext autoreload\n",
    "%autoreload 2"
   ]
  },
  {
   "cell_type": "code",
   "execution_count": 18,
   "metadata": {},
   "outputs": [],
   "source": [
    "sys.path.append(os.path.abspath(os.path.join('../scripts')))\n"
   ]
  },
  {
   "cell_type": "code",
   "execution_count": 50,
   "metadata": {},
   "outputs": [],
   "source": [
    "import os\n",
    "import sys\n",
    "import json\n",
    "from algosdk.v2client import algod\n",
    "from algosdk.future import transaction\n",
    "from algosdk.future.transaction import AssetConfigTxn, wait_for_confirmation\n",
    "from algosdk import constants\n",
    "import base64\n",
    "from account import *"
   ]
  },
  {
   "cell_type": "code",
   "execution_count": 31,
   "metadata": {},
   "outputs": [
    {
     "name": "stdout",
     "output_type": "stream",
     "text": [
      "My address: H3V5SSOS7QIEM6FJVMP4HHL4AKZE6WG2ZAQLHUGGJFSEI3ZOF5D5OSVZHI\n",
      "My private key: eKDVIPXv5m+doMFBndm7zf8bg9o/TJF3hQukwPVKSL8+69lJ0vwQRnipqx/DnXwCsk9Y2sggs9DGSWREby4vRw==\n",
      "My passphrase: audit final motor young soccer fossil agent script popular grid target wolf dawn patch yard equip vendor beyond alarm apart twist bargain where absent decade\n"
     ]
    }
   ],
   "source": [
    "address, private_key, passphrase = generate_algorand_keypair()"
   ]
  },
  {
   "cell_type": "code",
   "execution_count": 32,
   "metadata": {},
   "outputs": [],
   "source": [
    "key_data = {\n",
    "    'address': address,\n",
    "    'private_key': private_key,\n",
    "    'passphrase': passphrase\n",
    "}\n",
    "\n",
    "with open('../data/key_pair.json', 'w') as f:\n",
    "    json.dump(key_data, f)"
   ]
  },
  {
   "cell_type": "code",
   "execution_count": 48,
   "metadata": {},
   "outputs": [],
   "source": [
    "\n",
    "def first_transaction_example(private_key, my_address):\n",
    "    algod_address = \"http://localhost:4001\"\n",
    "    algod_token = \"aaaaaaaaaaaaaaaaaaaaaaaaaaaaaaaaaaaaaaaaaaaaaaaaaaaaaaaaaaaaaaaa\"\n",
    "    algod_client = algod.AlgodClient(algod_token, algod_address)\n",
    "    accoun_info = algod_client.account_info(my_address)\n",
    "    print(f'account info: {accoun_info}')\n",
    "\n",
    "    params = algod_client.suggested_params()\n",
    "    # comment out the next two (2) lines to use suggested fees\n",
    "    # params.flat_fee = True\n",
    "    # params.fee = constants.MIN_TXN_FEE \n",
    "    receiver = \"HZ57J3K46JIJXILONBBZOHX6BKPXEM2VVXNRFSUED6DKFD5ZD24PMJ3MVA\"\n",
    "    note = \"My first transaction\".encode()\n",
    "    amount = 1000000\n",
    "    unsigned_txn = transaction.PaymentTxn(my_address, params, receiver, amount, None, note)\n",
    "    signed_txn = unsigned_txn.sign(private_key)\n",
    "    #submit transaction\n",
    "    txid = algod_client.send_transaction(signed_txn)\n",
    "    print(\"Successfully sent transaction with txID: {}\".format(txid))\n",
    "\n",
    "    # wait for confirmation \n",
    "    try:\n",
    "        confirmed_txn = transaction.wait_for_confirmation(algod_client, txid, 4)  \n",
    "    except Exception as err:\n",
    "        print(err)\n",
    "        return\n",
    "\n",
    "    print(\"Transaction information: {}\".format(\n",
    "        json.dumps(confirmed_txn, indent=4)))\n",
    "    print(\"Decoded note: {}\".format(base64.b64decode(\n",
    "        confirmed_txn[\"txn\"][\"txn\"][\"note\"]).decode()))\n",
    "    print(\"Amount transfered: {} microAlgos\".format(amount) )    \n",
    "    print(\"Fee: {} microAlgos\".format(params.fee) ) \n",
    "\n",
    "\n",
    "    account_info = algod_client.account_info(my_address)\n",
    "    print(\"Final Account balance: {} microAlgos\".format(account_info.get('amount')) + \"\\n\")"
   ]
  },
  {
   "cell_type": "code",
   "execution_count": 49,
   "metadata": {},
   "outputs": [
    {
     "name": "stdout",
     "output_type": "stream",
     "text": [
      "account info: {'address': 'H3V5SSOS7QIEM6FJVMP4HHL4AKZE6WG2ZAQLHUGGJFSEI3ZOF5D5OSVZHI', 'amount': 3999000, 'amount-without-pending-rewards': 3999000, 'apps-local-state': [], 'apps-total-schema': {'num-byte-slice': 0, 'num-uint': 0}, 'assets': [], 'created-apps': [], 'created-assets': [], 'min-balance': 100000, 'pending-rewards': 0, 'reward-base': 27521, 'rewards': 0, 'round': 22237102, 'status': 'Offline', 'total-apps-opted-in': 0, 'total-assets-opted-in': 0, 'total-created-apps': 0, 'total-created-assets': 0}\n",
      "Successfully sent transaction with txID: AJCI6CGXNKGJ5XXHL2RC7RUEPQBCS4HRDIHRQUELT2MPJO5HR7FQ\n",
      "Transaction information: {\n",
      "    \"confirmed-round\": 22237104,\n",
      "    \"pool-error\": \"\",\n",
      "    \"txn\": {\n",
      "        \"sig\": \"4gEYwHVrPhKc47dtPytpccl8msmxwRvIoMsjexCB9imJKRwfILiPw/pR4ODWTHY5oLOIj7vHRkPW0C8vUwB4Dg==\",\n",
      "        \"txn\": {\n",
      "            \"amt\": 1000000,\n",
      "            \"fee\": 1000,\n",
      "            \"fv\": 22237102,\n",
      "            \"gen\": \"testnet-v1.0\",\n",
      "            \"gh\": \"SGO1GKSzyE7IEPItTxCByw9x8FmnrCDexi9/cOUJOiI=\",\n",
      "            \"lv\": 22238102,\n",
      "            \"note\": \"TXkgZmlyc3QgdHJhbnNhY3Rpb24=\",\n",
      "            \"rcv\": \"HZ57J3K46JIJXILONBBZOHX6BKPXEM2VVXNRFSUED6DKFD5ZD24PMJ3MVA\",\n",
      "            \"snd\": \"H3V5SSOS7QIEM6FJVMP4HHL4AKZE6WG2ZAQLHUGGJFSEI3ZOF5D5OSVZHI\",\n",
      "            \"type\": \"pay\"\n",
      "        }\n",
      "    }\n",
      "}\n",
      "Decoded note: My first transaction\n",
      "Amount transfered: 1000000 microAlgos\n",
      "Fee: 0 microAlgos\n",
      "Final Account balance: 2998000 microAlgos\n",
      "\n"
     ]
    }
   ],
   "source": [
    "first_transaction_example(private_key, address)"
   ]
  },
  {
   "cell_type": "code",
   "execution_count": 53,
   "metadata": {},
   "outputs": [
    {
     "name": "stdout",
     "output_type": "stream",
     "text": [
      "transaction {_struct:{} Sig:[124 87 56 204 54 140 175 175 245 149 241 31 61 65 87 197 230 134 128 143 63 243 151 92 41 240 92 213 3 182 161 241 191 177 251 28 227 178 165 168 167 64 210 219 52 39 216 248 17 202 116 181 217 189 181 36 143 241 15 185 116 32 130 4] Msig:{_struct:{} Version:0 Threshold:0 Subsigs:[]} Lsig:{_struct:{} Logic:[] Sig:[0 0 0 0 0 0 0 0 0 0 0 0 0 0 0 0 0 0 0 0 0 0 0 0 0 0 0 0 0 0 0 0 0 0 0 0 0 0 0 0 0 0 0 0 0 0 0 0 0 0 0 0 0 0 0 0 0 0 0 0 0 0 0 0] Msig:{_struct:{} Version:0 Threshold:0 Subsigs:[]} Args:[]} Txn:{_struct:{} Type:acfg Header:{_struct:{} Sender:H3V5SSOS7QIEM6FJVMP4HHL4AKZE6WG2ZAQLHUGGJFSEI3ZOF5D5OSVZHI Fee:{Raw:1000} FirstValid:22237315 LastValid:22238315 Note:[] GenesisID:testnet-v1.0 GenesisHash:JBR3KGFEWPEE5SAQ6IWU6EEBZMHXD4CZU6WCBXWGF57XBZIJHIRA Group:AAAAAAAAAAAAAAAAAAAAAAAAAAAAAAAAAAAAAAAAAAAAAAAAAAAA Lease:[0 0 0 0 0 0 0 0 0 0 0 0 0 0 0 0 0 0 0 0 0 0 0 0 0 0 0 0 0 0 0 0] RekeyTo:AAAAAAAAAAAAAAAAAAAAAAAAAAAAAAAAAAAAAAAAAAAAAAAAAAAAY5HFKQ} KeyregTxnFields:{_struct:{} VotePK:[0 0 0 0 0 0 0 0 0 0 0 0 0 0 0 0 0 0 0 0 0 0 0 0 0 0 0 0 0 0 0 0] SelectionPK:[0 0 0 0 0 0 0 0 0 0 0 0 0 0 0 0 0 0 0 0 0 0 0 0 0 0 0 0 0 0 0 0] StateProofPK:[0 0 0 0 0 0 0 0 0 0 0 0 0 0 0 0 0 0 0 0 0 0 0 0 0 0 0 0 0 0 0 0 0 0 0 0 0 0 0 0 0 0 0 0 0 0 0 0 0 0 0 0 0 0 0 0 0 0 0 0 0 0 0 0] VoteFirst:0 VoteLast:0 VoteKeyDilution:0 Nonparticipation:false} PaymentTxnFields:{_struct:{} Receiver:AAAAAAAAAAAAAAAAAAAAAAAAAAAAAAAAAAAAAAAAAAAAAAAAAAAAY5HFKQ Amount:{Raw:0} CloseRemainderTo:AAAAAAAAAAAAAAAAAAAAAAAAAAAAAAAAAAAAAAAAAAAAAAAAAAAAY5HFKQ} AssetConfigTxnFields:{_struct:{} ConfigAsset:0 AssetParams:{_struct:{} Total:1000 Decimals:0 DefaultFrozen:false UnitName:10 Academy AssetName:10ACAD URL:www.10academy.org MetadataHash:[0 0 0 0 0 0 0 0 0 0 0 0 0 0 0 0 0 0 0 0 0 0 0 0 0 0 0 0 0 0 0 0] Manager:H3V5SSOS7QIEM6FJVMP4HHL4AKZE6WG2ZAQLHUGGJFSEI3ZOF5D5OSVZHI Reserve:H3V5SSOS7QIEM6FJVMP4HHL4AKZE6WG2ZAQLHUGGJFSEI3ZOF5D5OSVZHI Freeze:H3V5SSOS7QIEM6FJVMP4HHL4AKZE6WG2ZAQLHUGGJFSEI3ZOF5D5OSVZHI Clawback:H3V5SSOS7QIEM6FJVMP4HHL4AKZE6WG2ZAQLHUGGJFSEI3ZOF5D5OSVZHI}} AssetTransferTxnFields:{_struct:{} XferAsset:0 AssetAmount:0 AssetSender:AAAAAAAAAAAAAAAAAAAAAAAAAAAAAAAAAAAAAAAAAAAAAAAAAAAAY5HFKQ AssetReceiver:AAAAAAAAAAAAAAAAAAAAAAAAAAAAAAAAAAAAAAAAAAAAAAAAAAAAY5HFKQ AssetCloseTo:AAAAAAAAAAAAAAAAAAAAAAAAAAAAAAAAAAAAAAAAAAAAAAAAAAAAY5HFKQ} AssetFreezeTxnFields:{_struct:{} FreezeAccount:AAAAAAAAAAAAAAAAAAAAAAAAAAAAAAAAAAAAAAAAAAAAAAAAAAAAY5HFKQ FreezeAsset:0 AssetFrozen:false} ApplicationCallTxnFields:{_struct:{} ApplicationID:0 OnCompletion:NoOpOC ApplicationArgs:[] Accounts:[] ForeignApps:[] ForeignAssets:[] LocalStateSchema:{_struct:{} NumUint:0 NumByteSlice:0} GlobalStateSchema:{_struct:{} NumUint:0 NumByteSlice:0} ApprovalProgram:[] ClearStateProgram:[] ExtraProgramPages:0} CompactCertTxnFields:{_struct:{} CertRound:0 CertType:0 Cert:{_struct:{} SigCommit:[] SignedWeight:0 SigProofs:{_struct:{} Path:[] HashFactory:{_struct:{} HashType:sha512_256} TreeDepth:0} PartProofs:{_struct:{} Path:[] HashFactory:{_struct:{} HashType:sha512_256} TreeDepth:0} Reveals:map[]}}} AuthAddr:AAAAAAAAAAAAAAAAAAAAAAAAAAAAAAAAAAAAAAAAAAAAAAAAAAAAY5HFKQ} invalid : transaction asset unit name too big: 10 > 8\n",
      "Transaction information: {\n",
      "    \"asset-index\": 95586805,\n",
      "    \"confirmed-round\": 22237282,\n",
      "    \"pool-error\": \"\",\n",
      "    \"txn\": {\n",
      "        \"sig\": \"8/duw/Ql4MWbu79xI/vcHyZK7K8xWy48qNPFQ7tntXU+klWWkTmQYEqoBK6OWXnGOHS8it9g1rnhS+i8hRtICQ==\",\n",
      "        \"txn\": {\n",
      "            \"apar\": {\n",
      "                \"an\": \"latinum\",\n",
      "                \"au\": \"https://path/to/my/asset/details\",\n",
      "                \"c\": \"H3V5SSOS7QIEM6FJVMP4HHL4AKZE6WG2ZAQLHUGGJFSEI3ZOF5D5OSVZHI\",\n",
      "                \"f\": \"H3V5SSOS7QIEM6FJVMP4HHL4AKZE6WG2ZAQLHUGGJFSEI3ZOF5D5OSVZHI\",\n",
      "                \"m\": \"H3V5SSOS7QIEM6FJVMP4HHL4AKZE6WG2ZAQLHUGGJFSEI3ZOF5D5OSVZHI\",\n",
      "                \"r\": \"H3V5SSOS7QIEM6FJVMP4HHL4AKZE6WG2ZAQLHUGGJFSEI3ZOF5D5OSVZHI\",\n",
      "                \"t\": 1000,\n",
      "                \"un\": \"LATINUM\"\n",
      "            },\n",
      "            \"fee\": 1000,\n",
      "            \"fv\": 22237280,\n",
      "            \"gen\": \"testnet-v1.0\",\n",
      "            \"gh\": \"SGO1GKSzyE7IEPItTxCByw9x8FmnrCDexi9/cOUJOiI=\",\n",
      "            \"lv\": 22238280,\n",
      "            \"snd\": \"H3V5SSOS7QIEM6FJVMP4HHL4AKZE6WG2ZAQLHUGGJFSEI3ZOF5D5OSVZHI\",\n",
      "            \"type\": \"acfg\"\n",
      "        }\n",
      "    }\n",
      "}\n"
     ]
    }
   ],
   "source": [
    "# create an assset\n",
    "\n",
    "# CREATE ASSET\n",
    "# Get network params for transactions before every transaction.\n",
    "algod_address = \"http://localhost:4001\"\n",
    "algod_token = \"aaaaaaaaaaaaaaaaaaaaaaaaaaaaaaaaaaaaaaaaaaaaaaaaaaaaaaaaaaaaaaaa\"\n",
    "algod_client = algod.AlgodClient(algod_token, algod_address)\n",
    "params = algod_client.suggested_params()\n",
    "# comment these two lines if you want to use suggested params\n",
    "# params.fee = 1000\n",
    "# params.flat_fee = True\n",
    "# Account 1 creates an asset called latinum and\n",
    "# sets Account 2 as the manager, reserve, freeze, and clawback address.\n",
    "# Asset Creation transaction\n",
    "txn = AssetConfigTxn(\n",
    "    sender=address,\n",
    "    sp=params,\n",
    "    total=1000,\n",
    "    default_frozen=False,\n",
    "    unit_name=\"10 Academy\",\n",
    "    asset_name=\"10ACAD\",\n",
    "    manager=address,\n",
    "    reserve=address,\n",
    "    freeze=address,\n",
    "    clawback=address,\n",
    "    url=\"www.10academy.org\", \n",
    "    decimals=0)\n",
    "# Sign with secret key of creator\n",
    "stxn = txn.sign(private_key)\n",
    "# Send the transaction to the network and retrieve the txid.\n",
    "try:\n",
    "    txid = algod_client.send_transaction(stxn)\n",
    "    print(\"Signed transaction with txID: {}\".format(txid))\n",
    "    # Wait for the transaction to be confirmed\n",
    "    confirmed_txn = wait_for_confirmation(algod_client, txid, 4)  \n",
    "    print(\"TXID: \", txid)\n",
    "    print(\"Result confirmed in round: {}\".format(confirmed_txn['confirmed-round']))   \n",
    "except Exception as err:\n",
    "    print(err)\n",
    "# Retrieve the asset ID of the newly created asset by first\n",
    "# ensuring that the creation transaction was confirmed,\n",
    "# then grabbing the asset id from the transaction.\n",
    "print(\"Transaction information: {}\".format(\n",
    "    json.dumps(confirmed_txn, indent=4)))\n"
   ]
  },
  {
   "cell_type": "code",
   "execution_count": null,
   "metadata": {},
   "outputs": [],
   "source": []
  }
 ],
 "metadata": {
  "interpreter": {
   "hash": "0368e838d39f6875ccbb49ca4329eb228e4240d1886ceb664016ee8f89a9c98f"
  },
  "kernelspec": {
   "display_name": "Python 3.10.4 ('week6')",
   "language": "python",
   "name": "python3"
  },
  "language_info": {
   "codemirror_mode": {
    "name": "ipython",
    "version": 3
   },
   "file_extension": ".py",
   "mimetype": "text/x-python",
   "name": "python",
   "nbconvert_exporter": "python",
   "pygments_lexer": "ipython3",
   "version": "3.10.4"
  },
  "orig_nbformat": 4
 },
 "nbformat": 4,
 "nbformat_minor": 2
}
